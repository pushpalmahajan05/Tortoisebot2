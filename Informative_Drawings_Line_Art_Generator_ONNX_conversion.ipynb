{
  "nbformat": 4,
  "nbformat_minor": 0,
  "metadata": {
    "colab": {
      "name": "Informative Drawings Line Art Generator - ONNX conversion.ipynb",
      "provenance": [],
      "collapsed_sections": []
    },
    "kernelspec": {
      "name": "python3",
      "display_name": "Python 3"
    },
    "language_info": {
      "name": "python"
    }
  },
  "cells": [
    {
      "cell_type": "code",
      "source": [
        "# https://huggingface.co/spaces/carolineec/informativedrawings"
      ],
      "metadata": {
        "id": "LD-wo3YBz44e"
      },
      "execution_count": 1,
      "outputs": []
    },
    {
      "cell_type": "code",
      "source": [
        "!wget -O model.pth https://cdn-lfs.huggingface.co/spaces/carolineec/informativedrawings/c686ced2a666b4850b4bb6ccf0748031c3eda9f822de73a34b8979970d90f0c6"
      ],
      "metadata": {
        "id": "0WJz5Lp3ziyv"
      },
      "execution_count": null,
      "outputs": []
    },
    {
      "cell_type": "code",
      "source": [
        "!wget https://huggingface.co/spaces/carolineec/informativedrawings/resolve/main/cat.png\n",
        "!wget https://huggingface.co/spaces/carolineec/informativedrawings/resolve/main/lizard.png"
      ],
      "metadata": {
        "id": "a1gAtW2xzzXt"
      },
      "execution_count": null,
      "outputs": []
    },
    {
      "cell_type": "code",
      "execution_count": null,
      "metadata": {
        "id": "-toqZE9bzPOF"
      },
      "outputs": [],
      "source": [
        "import numpy as np\n",
        "import torch\n",
        "import torch.nn as nn\n",
        "from PIL import Image\n",
        "import torchvision.transforms as transforms\n",
        "\n",
        "norm_layer = nn.InstanceNorm2d\n",
        "\n",
        "class ResidualBlock(nn.Module):\n",
        "    def __init__(self, in_features):\n",
        "        super(ResidualBlock, self).__init__()\n",
        "\n",
        "        conv_block = [  nn.ReflectionPad2d(1),\n",
        "                        nn.Conv2d(in_features, in_features, 3),\n",
        "                        norm_layer(in_features),\n",
        "                        nn.ReLU(inplace=True),\n",
        "                        nn.ReflectionPad2d(1),\n",
        "                        nn.Conv2d(in_features, in_features, 3),\n",
        "                        norm_layer(in_features)\n",
        "                        ]\n",
        "\n",
        "        self.conv_block = nn.Sequential(*conv_block)\n",
        "\n",
        "    def forward(self, x):\n",
        "        return x + self.conv_block(x)\n",
        "\n",
        "\n",
        "class Generator(nn.Module):\n",
        "    def __init__(self, input_nc, output_nc, n_residual_blocks=9, sigmoid=True):\n",
        "        super(Generator, self).__init__()\n",
        "\n",
        "        # Initial convolution block\n",
        "        model0 = [   nn.ReflectionPad2d(3),\n",
        "                    nn.Conv2d(input_nc, 64, 7),\n",
        "                    norm_layer(64),\n",
        "                    nn.ReLU(inplace=True) ]\n",
        "        self.model0 = nn.Sequential(*model0)\n",
        "\n",
        "        # Downsampling\n",
        "        model1 = []\n",
        "        in_features = 64\n",
        "        out_features = in_features*2\n",
        "        for _ in range(2):\n",
        "            model1 += [  nn.Conv2d(in_features, out_features, 3, stride=2, padding=1),\n",
        "                        norm_layer(out_features),\n",
        "                        nn.ReLU(inplace=True) ]\n",
        "            in_features = out_features\n",
        "            out_features = in_features*2\n",
        "        self.model1 = nn.Sequential(*model1)\n",
        "\n",
        "        model2 = []\n",
        "        # Residual blocks\n",
        "        for _ in range(n_residual_blocks):\n",
        "            model2 += [ResidualBlock(in_features)]\n",
        "        self.model2 = nn.Sequential(*model2)\n",
        "\n",
        "        # Upsampling\n",
        "        model3 = []\n",
        "        out_features = in_features//2\n",
        "        for _ in range(2):\n",
        "            model3 += [  nn.ConvTranspose2d(in_features, out_features, 3, stride=2, padding=1, output_padding=1),\n",
        "                        norm_layer(out_features),\n",
        "                        nn.ReLU(inplace=True) ]\n",
        "            in_features = out_features\n",
        "            out_features = in_features//2\n",
        "        self.model3 = nn.Sequential(*model3)\n",
        "\n",
        "        # Output layer\n",
        "        model4 = [  nn.ReflectionPad2d(3),\n",
        "                        nn.Conv2d(64, output_nc, 7)]\n",
        "        if sigmoid:\n",
        "            model4 += [nn.Sigmoid()]\n",
        "\n",
        "        self.model4 = nn.Sequential(*model4)\n",
        "\n",
        "    def forward(self, x, cond=None):\n",
        "        out = self.model0(x)\n",
        "        out = self.model1(out)\n",
        "        out = self.model2(out)\n",
        "        out = self.model3(out)\n",
        "        out = self.model4(out)\n",
        "\n",
        "        return out\n",
        "\n",
        "model = Generator(3, 1, 3)\n",
        "model.load_state_dict(torch.load('model.pth', map_location=torch.device('cpu')))\n",
        "model.eval()\n",
        "\n",
        "def predict(input_img):\n",
        "    input_img = Image.open(input_img)\n",
        "    transform = transforms.Compose([transforms.Resize(256, Image.BICUBIC), transforms.ToTensor()])\n",
        "    input_img = transform(input_img)\n",
        "    input_img = torch.unsqueeze(input_img, 0)\n",
        "\n",
        "    with torch.no_grad():\n",
        "        drawing = model(input_img)[0].detach()                  \n",
        "        torch.onnx.export(model, input_img, f=\"model.onnx\", export_params=True, opset_version=12, do_constant_folding=True, input_names=['input'], output_names=['output'], dynamic_axes={'input':{0:'batch', 2:'height', 3:'width'}, 'output':{0:'batch', 2:'height', 3:'width'}}) \n",
        "    \n",
        "    drawing = transforms.ToPILImage()(drawing)\n",
        "    return drawing\n",
        "\n",
        "predict(\"lizard.png\")"
      ]
    }
  ]
}